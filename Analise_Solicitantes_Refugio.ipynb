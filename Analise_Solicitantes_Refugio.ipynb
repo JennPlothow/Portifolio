{
 "cells": [
  {
   "cell_type": "markdown",
   "id": "ad45f447",
   "metadata": {},
   "source": [
    "# <font color='green'>Refugiados no Brasil</font>\n",
    "\n",
    "\n",
    "## <font color='black'>Extração de Dados do fluxos migratórios internacionais no Brasil</font>\n",
    "\n",
    "### <font color='black'>Jennifer Plothow</font>"
   ]
  },
  {
   "cell_type": "markdown",
   "id": "bb6cc3e0",
   "metadata": {},
   "source": [
    "> Diversas pessoas saem diariamente de seus de países de origem ou de onde têm residência fixa para morar em outro. Os motivos são vários: para estudar, para buscar melhores condições de vida, mais oportunidades de trabalho, para aprender uma nova cultura. Esse movimento se chama migração internacional. No geral, essa movimentação é voluntária e quando essas pessoas chegam ao novo país, elas são consideradas imigrantes. O Brasil é formado por imigrantes. Historicamente, o país recebeu pessoas vindas da Europa, da Ásia, da África. E esse movimento nunca parou. Diariamente pessoas chegam ao país e muitas decidem residir aqui.Mas há \n",
    "**AUTORIZAÇÃO DE RESIDÊNCIA PARA NACIONALIDADES ESPECÍFICAS**,que prevêem críterios de autorização de residência para algumas nacionalidades específicas."
   ]
  },
  {
   "cell_type": "markdown",
   "id": "81c083ea",
   "metadata": {},
   "source": [
    "\n",
    "\n",
    " Os dados do governo são uma das grandes fontes de dados abertos que existem. No entanto, devido ao formato do conjunto de dados, os usuários precisam limpar e reorganizar os dados para análise posterior, então analisaremos o conjunto de dados de pedidos imigrações.Analisar o os deferimentos e indeferimentos, a quantidade e porpoção de imigração no Brasil\n",
    "\n"
   ]
  },
  {
   "cell_type": "markdown",
   "id": "022dde17",
   "metadata": {},
   "source": [
    "**_Categorias_**\n",
    "\n",
    "* Deferido: pessoas reconhecidas como refugiadas nos termos da lei;\n",
    "* Indeferido: pessoas não reconhecidas como refugiadas por estarem  ausentes os critérios;\n",
    "* Extinção: sem resolução do processo,razões por alguma razão presente ou quando o requerente desiste, abandona;\n",
    "* Arquivado: processos arquivados.\n",
    "\n"
   ]
  },
  {
   "cell_type": "markdown",
   "id": "95c0ef3b",
   "metadata": {},
   "source": [
    "**Para obter os dados**\n",
    "\n",
    "<https://www.gov.br/mj/pt-br/assuntos/seus-direitos/refugio/refugio-em-numeros-e-publicacoes/capa>\n"
   ]
  },
  {
   "cell_type": "code",
   "execution_count": 1,
   "id": "f530674f",
   "metadata": {},
   "outputs": [],
   "source": [
    "import pandas as pd\n",
    "import numpy as np\n",
    "import csv\n",
    "import os\n",
    "import matplotlib.pyplot as plt\n",
    "import seaborn as sns\n",
    "import warnings\n",
    "warnings.filterwarnings(\"ignore\")"
   ]
  },
  {
   "cell_type": "code",
   "execution_count": 2,
   "id": "e1a58bb5",
   "metadata": {},
   "outputs": [
    {
     "name": "stdout",
     "output_type": "stream",
     "text": [
      "Author: J.Plothow\n",
      "\n",
      "matplotlib: 3.5.1\n",
      "seaborn   : 0.11.1\n",
      "pandas    : 1.2.4\n",
      "csv       : 1.0\n",
      "numpy     : 1.21.5\n",
      "\n"
     ]
    }
   ],
   "source": [
    "%reload_ext watermark\n",
    "%watermark -a \"J.Plothow\" --iversions"
   ]
  },
  {
   "cell_type": "markdown",
   "id": "f2a761c9",
   "metadata": {},
   "source": [
    "## Carregando os Dados"
   ]
  },
  {
   "cell_type": "code",
   "execution_count": 184,
   "id": "06286dc5",
   "metadata": {},
   "outputs": [],
   "source": [
    "df1 = pd.read_excel(\"dados/2020.xlsx\")\n",
    "df2 = pd.read_excel(\"dados/2021.xlsx\")"
   ]
  },
  {
   "cell_type": "code",
   "execution_count": 185,
   "id": "02757280",
   "metadata": {},
   "outputs": [
    {
     "data": {
      "text/plain": [
       "(26810, 7)"
      ]
     },
     "execution_count": 185,
     "metadata": {},
     "output_type": "execute_result"
    }
   ],
   "source": [
    "df1.shape"
   ]
  },
  {
   "cell_type": "code",
   "execution_count": 186,
   "id": "b2e67bc3",
   "metadata": {},
   "outputs": [
    {
     "data": {
      "text/plain": [
       "(2100, 7)"
      ]
     },
     "execution_count": 186,
     "metadata": {},
     "output_type": "execute_result"
    }
   ],
   "source": [
    "df2.shape"
   ]
  },
  {
   "cell_type": "code",
   "execution_count": 187,
   "id": "2c3ed785",
   "metadata": {},
   "outputs": [],
   "source": [
    "df_dados=df1.merge(df2,how='outer')"
   ]
  },
  {
   "cell_type": "code",
   "execution_count": 188,
   "id": "c42b7ec3",
   "metadata": {},
   "outputs": [
    {
     "data": {
      "text/html": [
       "<div>\n",
       "<style scoped>\n",
       "    .dataframe tbody tr th:only-of-type {\n",
       "        vertical-align: middle;\n",
       "    }\n",
       "\n",
       "    .dataframe tbody tr th {\n",
       "        vertical-align: top;\n",
       "    }\n",
       "\n",
       "    .dataframe thead th {\n",
       "        text-align: right;\n",
       "    }\n",
       "</style>\n",
       "<table border=\"1\" class=\"dataframe\">\n",
       "  <thead>\n",
       "    <tr style=\"text-align: right;\">\n",
       "      <th></th>\n",
       "      <th>STATUS - Requerimento</th>\n",
       "      <th>ANO  SOLICITAÇÃO</th>\n",
       "      <th>PAÍS DE ORIGEM</th>\n",
       "      <th>GÊNERO</th>\n",
       "      <th>ANO DE NASCIMENTO</th>\n",
       "      <th>CIDADE SOLICITAÇÃO</th>\n",
       "      <th>DATA DA  DECISÃO</th>\n",
       "    </tr>\n",
       "  </thead>\n",
       "  <tbody>\n",
       "    <tr>\n",
       "      <th>0</th>\n",
       "      <td>ELEGIBILIDADE - DEFERIDO</td>\n",
       "      <td>2018</td>\n",
       "      <td>VENEZUELA</td>\n",
       "      <td>M</td>\n",
       "      <td>1993</td>\n",
       "      <td>RIO DE JANEIRO</td>\n",
       "      <td>2020-01-31</td>\n",
       "    </tr>\n",
       "    <tr>\n",
       "      <th>1</th>\n",
       "      <td>ELEGIBILIDADE - DEFERIDO</td>\n",
       "      <td>2017</td>\n",
       "      <td>VENEZUELA</td>\n",
       "      <td>M</td>\n",
       "      <td>1994</td>\n",
       "      <td>SÃO PAULO</td>\n",
       "      <td>2020-01-31</td>\n",
       "    </tr>\n",
       "    <tr>\n",
       "      <th>2</th>\n",
       "      <td>ELEGIBILIDADE - DEFERIDO</td>\n",
       "      <td>2013</td>\n",
       "      <td>VENEZUELA</td>\n",
       "      <td>M</td>\n",
       "      <td>1981</td>\n",
       "      <td>MANAUS</td>\n",
       "      <td>2020-01-31</td>\n",
       "    </tr>\n",
       "    <tr>\n",
       "      <th>3</th>\n",
       "      <td>ELEGIBILIDADE - DEFERIDO</td>\n",
       "      <td>2018</td>\n",
       "      <td>VENEZUELA</td>\n",
       "      <td>M</td>\n",
       "      <td>1969</td>\n",
       "      <td>SÃO PAULO</td>\n",
       "      <td>2020-01-31</td>\n",
       "    </tr>\n",
       "    <tr>\n",
       "      <th>4</th>\n",
       "      <td>ELEGIBILIDADE - DEFERIDO</td>\n",
       "      <td>2018</td>\n",
       "      <td>VENEZUELA</td>\n",
       "      <td>F</td>\n",
       "      <td>1968</td>\n",
       "      <td>SÃO PAULO</td>\n",
       "      <td>2020-01-31</td>\n",
       "    </tr>\n",
       "    <tr>\n",
       "      <th>...</th>\n",
       "      <td>...</td>\n",
       "      <td>...</td>\n",
       "      <td>...</td>\n",
       "      <td>...</td>\n",
       "      <td>...</td>\n",
       "      <td>...</td>\n",
       "      <td>...</td>\n",
       "    </tr>\n",
       "    <tr>\n",
       "      <th>28905</th>\n",
       "      <td>CESSAÇÃO</td>\n",
       "      <td>2015</td>\n",
       "      <td>SÍRIA</td>\n",
       "      <td>M</td>\n",
       "      <td>1968</td>\n",
       "      <td>SÃO PAULO</td>\n",
       "      <td>2021-06-17</td>\n",
       "    </tr>\n",
       "    <tr>\n",
       "      <th>28906</th>\n",
       "      <td>CESSAÇÃO</td>\n",
       "      <td>2014</td>\n",
       "      <td>IRAQUE</td>\n",
       "      <td>M</td>\n",
       "      <td>1986</td>\n",
       "      <td>RIO DE JANEIRO</td>\n",
       "      <td>2021-06-17</td>\n",
       "    </tr>\n",
       "    <tr>\n",
       "      <th>28907</th>\n",
       "      <td>CESSAÇÃO</td>\n",
       "      <td>2013</td>\n",
       "      <td>LÍBANO</td>\n",
       "      <td>M</td>\n",
       "      <td>1988</td>\n",
       "      <td>SÃO PAULO</td>\n",
       "      <td>2021-06-17</td>\n",
       "    </tr>\n",
       "    <tr>\n",
       "      <th>28908</th>\n",
       "      <td>CESSAÇÃO</td>\n",
       "      <td>2014</td>\n",
       "      <td>SÍRIA</td>\n",
       "      <td>M</td>\n",
       "      <td>1990</td>\n",
       "      <td>GUARUJÁ</td>\n",
       "      <td>2021-06-17</td>\n",
       "    </tr>\n",
       "    <tr>\n",
       "      <th>28909</th>\n",
       "      <td>CESSAÇÃO</td>\n",
       "      <td>2013</td>\n",
       "      <td>SUDÃO</td>\n",
       "      <td>M</td>\n",
       "      <td>1987</td>\n",
       "      <td>BRASÍLIA</td>\n",
       "      <td>2021-06-17</td>\n",
       "    </tr>\n",
       "  </tbody>\n",
       "</table>\n",
       "<p>28910 rows × 7 columns</p>\n",
       "</div>"
      ],
      "text/plain": [
       "          STATUS - Requerimento  ANO  SOLICITAÇÃO PAÍS DE ORIGEM GÊNERO  \\\n",
       "0      ELEGIBILIDADE - DEFERIDO              2018      VENEZUELA      M   \n",
       "1      ELEGIBILIDADE - DEFERIDO              2017      VENEZUELA      M   \n",
       "2      ELEGIBILIDADE - DEFERIDO              2013      VENEZUELA      M   \n",
       "3      ELEGIBILIDADE - DEFERIDO              2018      VENEZUELA      M   \n",
       "4      ELEGIBILIDADE - DEFERIDO              2018      VENEZUELA      F   \n",
       "...                         ...               ...            ...    ...   \n",
       "28905                  CESSAÇÃO              2015          SÍRIA      M   \n",
       "28906                  CESSAÇÃO              2014         IRAQUE      M   \n",
       "28907                  CESSAÇÃO              2013         LÍBANO      M   \n",
       "28908                  CESSAÇÃO              2014          SÍRIA      M   \n",
       "28909                  CESSAÇÃO              2013          SUDÃO      M   \n",
       "\n",
       "       ANO DE NASCIMENTO CIDADE SOLICITAÇÃO DATA DA  DECISÃO  \n",
       "0                   1993     RIO DE JANEIRO       2020-01-31  \n",
       "1                   1994          SÃO PAULO       2020-01-31  \n",
       "2                   1981             MANAUS       2020-01-31  \n",
       "3                   1969          SÃO PAULO       2020-01-31  \n",
       "4                   1968          SÃO PAULO       2020-01-31  \n",
       "...                  ...                ...              ...  \n",
       "28905               1968          SÃO PAULO       2021-06-17  \n",
       "28906               1986     RIO DE JANEIRO       2021-06-17  \n",
       "28907               1988          SÃO PAULO       2021-06-17  \n",
       "28908               1990            GUARUJÁ       2021-06-17  \n",
       "28909               1987           BRASÍLIA       2021-06-17  \n",
       "\n",
       "[28910 rows x 7 columns]"
      ]
     },
     "execution_count": 188,
     "metadata": {},
     "output_type": "execute_result"
    }
   ],
   "source": [
    "df_dados"
   ]
  },
  {
   "cell_type": "markdown",
   "id": "e02ddcc0",
   "metadata": {},
   "source": [
    "## Formatação dos Dados"
   ]
  },
  {
   "cell_type": "code",
   "execution_count": 189,
   "id": "24a33e10",
   "metadata": {},
   "outputs": [
    {
     "name": "stdout",
     "output_type": "stream",
     "text": [
      "<class 'pandas.core.frame.DataFrame'>\n",
      "Int64Index: 28910 entries, 0 to 28909\n",
      "Data columns (total 7 columns):\n",
      " #   Column                 Non-Null Count  Dtype         \n",
      "---  ------                 --------------  -----         \n",
      " 0   STATUS - Requerimento  28910 non-null  object        \n",
      " 1   ANO  SOLICITAÇÃO       28910 non-null  int64         \n",
      " 2   PAÍS DE ORIGEM         28910 non-null  object        \n",
      " 3   GÊNERO                 28910 non-null  object        \n",
      " 4   ANO DE NASCIMENTO      28910 non-null  int64         \n",
      " 5   CIDADE SOLICITAÇÃO     28910 non-null  object        \n",
      " 6   DATA DA  DECISÃO       28910 non-null  datetime64[ns]\n",
      "dtypes: datetime64[ns](1), int64(2), object(4)\n",
      "memory usage: 1.8+ MB\n"
     ]
    }
   ],
   "source": [
    "df_dados.info()"
   ]
  },
  {
   "cell_type": "code",
   "execution_count": 190,
   "id": "1b8e6a72",
   "metadata": {},
   "outputs": [
    {
     "data": {
      "text/plain": [
       "STATUS - Requerimento    False\n",
       "ANO  SOLICITAÇÃO         False\n",
       "PAÍS DE ORIGEM           False\n",
       "GÊNERO                   False\n",
       "ANO DE NASCIMENTO        False\n",
       "CIDADE SOLICITAÇÃO       False\n",
       "DATA DA  DECISÃO         False\n",
       "dtype: bool"
      ]
     },
     "execution_count": 190,
     "metadata": {},
     "output_type": "execute_result"
    }
   ],
   "source": [
    "df_dados.isna().any()\n"
   ]
  },
  {
   "cell_type": "code",
   "execution_count": 191,
   "id": "41062304",
   "metadata": {},
   "outputs": [
    {
     "data": {
      "text/plain": [
       "STATUS - Requerimento            object\n",
       "ANO  SOLICITAÇÃO                  int64\n",
       "PAÍS DE ORIGEM                   object\n",
       "GÊNERO                           object\n",
       "ANO DE NASCIMENTO                 int64\n",
       "CIDADE SOLICITAÇÃO               object\n",
       "DATA DA  DECISÃO         datetime64[ns]\n",
       "dtype: object"
      ]
     },
     "execution_count": 191,
     "metadata": {},
     "output_type": "execute_result"
    }
   ],
   "source": [
    "df_dados.dtypes"
   ]
  },
  {
   "cell_type": "code",
   "execution_count": 192,
   "id": "91937e99",
   "metadata": {},
   "outputs": [
    {
     "data": {
      "text/plain": [
       "(28910, 7)"
      ]
     },
     "execution_count": 192,
     "metadata": {},
     "output_type": "execute_result"
    }
   ],
   "source": [
    "df_dados.shape"
   ]
  },
  {
   "cell_type": "code",
   "execution_count": 193,
   "id": "3dd02e12",
   "metadata": {},
   "outputs": [],
   "source": [
    "df_dados.replace(to_replace =\"ELEGIBILIDADE - DEFERIDO\",\n",
    "                 value =\"DEFERIDO\",inplace=True)"
   ]
  },
  {
   "cell_type": "code",
   "execution_count": 194,
   "id": "145e36ab",
   "metadata": {},
   "outputs": [],
   "source": [
    "df_dados.replace(to_replace =\"CESSAÇÃO\",\n",
    "                 value =\"CESSADO\",inplace=True)"
   ]
  },
  {
   "cell_type": "code",
   "execution_count": 195,
   "id": "8abc04e8",
   "metadata": {},
   "outputs": [],
   "source": [
    "df_dados.replace(to_replace =\"ELEGIBILIDADE - INDEFERIDO\",\n",
    "                 value =\"INDEFERIDO\",inplace=True)"
   ]
  },
  {
   "cell_type": "code",
   "execution_count": 196,
   "id": "e087145d",
   "metadata": {},
   "outputs": [],
   "source": [
    "df_dados.replace(to_replace =\"EXTENSÃO DOS EFEITOS DA CONDIÇÃO DE REFUGIADO - DEFERIDO\",\n",
    "                 value =\"EXTENÇÃO-DEFERIDO\",inplace=True)"
   ]
  },
  {
   "cell_type": "code",
   "execution_count": 197,
   "id": "4e9b612d",
   "metadata": {},
   "outputs": [],
   "source": [
    "df_dados.replace(to_replace =\"EXTENSÃO DOS EFEITOS DA CONDIÇÃO DE REFUGIADO - INDEFERIDO\",\n",
    "                 value =\"EXTENÇÃO-INDEFERIDO\",inplace=True)"
   ]
  },
  {
   "cell_type": "code",
   "execution_count": 198,
   "id": "cdfa7599",
   "metadata": {},
   "outputs": [
    {
     "data": {
      "text/html": [
       "<div>\n",
       "<style scoped>\n",
       "    .dataframe tbody tr th:only-of-type {\n",
       "        vertical-align: middle;\n",
       "    }\n",
       "\n",
       "    .dataframe tbody tr th {\n",
       "        vertical-align: top;\n",
       "    }\n",
       "\n",
       "    .dataframe thead th {\n",
       "        text-align: right;\n",
       "    }\n",
       "</style>\n",
       "<table border=\"1\" class=\"dataframe\">\n",
       "  <thead>\n",
       "    <tr style=\"text-align: right;\">\n",
       "      <th></th>\n",
       "      <th>STATUS - Requerimento</th>\n",
       "      <th>ANO  SOLICITAÇÃO</th>\n",
       "      <th>PAÍS DE ORIGEM</th>\n",
       "      <th>GÊNERO</th>\n",
       "      <th>ANO DE NASCIMENTO</th>\n",
       "      <th>CIDADE SOLICITAÇÃO</th>\n",
       "      <th>DATA DA  DECISÃO</th>\n",
       "    </tr>\n",
       "  </thead>\n",
       "  <tbody>\n",
       "    <tr>\n",
       "      <th>28905</th>\n",
       "      <td>CESSADO</td>\n",
       "      <td>2015</td>\n",
       "      <td>SÍRIA</td>\n",
       "      <td>M</td>\n",
       "      <td>1968</td>\n",
       "      <td>SÃO PAULO</td>\n",
       "      <td>2021-06-17</td>\n",
       "    </tr>\n",
       "    <tr>\n",
       "      <th>28906</th>\n",
       "      <td>CESSADO</td>\n",
       "      <td>2014</td>\n",
       "      <td>IRAQUE</td>\n",
       "      <td>M</td>\n",
       "      <td>1986</td>\n",
       "      <td>RIO DE JANEIRO</td>\n",
       "      <td>2021-06-17</td>\n",
       "    </tr>\n",
       "    <tr>\n",
       "      <th>28907</th>\n",
       "      <td>CESSADO</td>\n",
       "      <td>2013</td>\n",
       "      <td>LÍBANO</td>\n",
       "      <td>M</td>\n",
       "      <td>1988</td>\n",
       "      <td>SÃO PAULO</td>\n",
       "      <td>2021-06-17</td>\n",
       "    </tr>\n",
       "    <tr>\n",
       "      <th>28908</th>\n",
       "      <td>CESSADO</td>\n",
       "      <td>2014</td>\n",
       "      <td>SÍRIA</td>\n",
       "      <td>M</td>\n",
       "      <td>1990</td>\n",
       "      <td>GUARUJÁ</td>\n",
       "      <td>2021-06-17</td>\n",
       "    </tr>\n",
       "    <tr>\n",
       "      <th>28909</th>\n",
       "      <td>CESSADO</td>\n",
       "      <td>2013</td>\n",
       "      <td>SUDÃO</td>\n",
       "      <td>M</td>\n",
       "      <td>1987</td>\n",
       "      <td>BRASÍLIA</td>\n",
       "      <td>2021-06-17</td>\n",
       "    </tr>\n",
       "  </tbody>\n",
       "</table>\n",
       "</div>"
      ],
      "text/plain": [
       "      STATUS - Requerimento  ANO  SOLICITAÇÃO PAÍS DE ORIGEM GÊNERO  \\\n",
       "28905               CESSADO              2015          SÍRIA      M   \n",
       "28906               CESSADO              2014         IRAQUE      M   \n",
       "28907               CESSADO              2013         LÍBANO      M   \n",
       "28908               CESSADO              2014          SÍRIA      M   \n",
       "28909               CESSADO              2013          SUDÃO      M   \n",
       "\n",
       "       ANO DE NASCIMENTO CIDADE SOLICITAÇÃO DATA DA  DECISÃO  \n",
       "28905               1968          SÃO PAULO       2021-06-17  \n",
       "28906               1986     RIO DE JANEIRO       2021-06-17  \n",
       "28907               1988          SÃO PAULO       2021-06-17  \n",
       "28908               1990            GUARUJÁ       2021-06-17  \n",
       "28909               1987           BRASÍLIA       2021-06-17  "
      ]
     },
     "execution_count": 198,
     "metadata": {},
     "output_type": "execute_result"
    }
   ],
   "source": [
    "df_dados.tail()"
   ]
  },
  {
   "cell_type": "code",
   "execution_count": 199,
   "id": "6640d54e",
   "metadata": {},
   "outputs": [
    {
     "data": {
      "text/html": [
       "<div>\n",
       "<style scoped>\n",
       "    .dataframe tbody tr th:only-of-type {\n",
       "        vertical-align: middle;\n",
       "    }\n",
       "\n",
       "    .dataframe tbody tr th {\n",
       "        vertical-align: top;\n",
       "    }\n",
       "\n",
       "    .dataframe thead th {\n",
       "        text-align: right;\n",
       "    }\n",
       "</style>\n",
       "<table border=\"1\" class=\"dataframe\">\n",
       "  <thead>\n",
       "    <tr style=\"text-align: right;\">\n",
       "      <th></th>\n",
       "      <th>STATUS - Requerimento</th>\n",
       "      <th>ANO  SOLICITAÇÃO</th>\n",
       "      <th>PAÍS DE ORIGEM</th>\n",
       "      <th>GÊNERO</th>\n",
       "      <th>ANO DE NASCIMENTO</th>\n",
       "      <th>CIDADE SOLICITAÇÃO</th>\n",
       "      <th>DATA DA  DECISÃO</th>\n",
       "    </tr>\n",
       "  </thead>\n",
       "  <tbody>\n",
       "    <tr>\n",
       "      <th>0</th>\n",
       "      <td>DEFERIDO</td>\n",
       "      <td>2018</td>\n",
       "      <td>VENEZUELA</td>\n",
       "      <td>M</td>\n",
       "      <td>1993</td>\n",
       "      <td>RIO DE JANEIRO</td>\n",
       "      <td>2020-01-31</td>\n",
       "    </tr>\n",
       "    <tr>\n",
       "      <th>1</th>\n",
       "      <td>DEFERIDO</td>\n",
       "      <td>2017</td>\n",
       "      <td>VENEZUELA</td>\n",
       "      <td>M</td>\n",
       "      <td>1994</td>\n",
       "      <td>SÃO PAULO</td>\n",
       "      <td>2020-01-31</td>\n",
       "    </tr>\n",
       "    <tr>\n",
       "      <th>2</th>\n",
       "      <td>DEFERIDO</td>\n",
       "      <td>2013</td>\n",
       "      <td>VENEZUELA</td>\n",
       "      <td>M</td>\n",
       "      <td>1981</td>\n",
       "      <td>MANAUS</td>\n",
       "      <td>2020-01-31</td>\n",
       "    </tr>\n",
       "    <tr>\n",
       "      <th>3</th>\n",
       "      <td>DEFERIDO</td>\n",
       "      <td>2018</td>\n",
       "      <td>VENEZUELA</td>\n",
       "      <td>M</td>\n",
       "      <td>1969</td>\n",
       "      <td>SÃO PAULO</td>\n",
       "      <td>2020-01-31</td>\n",
       "    </tr>\n",
       "    <tr>\n",
       "      <th>4</th>\n",
       "      <td>DEFERIDO</td>\n",
       "      <td>2018</td>\n",
       "      <td>VENEZUELA</td>\n",
       "      <td>F</td>\n",
       "      <td>1968</td>\n",
       "      <td>SÃO PAULO</td>\n",
       "      <td>2020-01-31</td>\n",
       "    </tr>\n",
       "  </tbody>\n",
       "</table>\n",
       "</div>"
      ],
      "text/plain": [
       "  STATUS - Requerimento  ANO  SOLICITAÇÃO PAÍS DE ORIGEM GÊNERO  \\\n",
       "0              DEFERIDO              2018      VENEZUELA      M   \n",
       "1              DEFERIDO              2017      VENEZUELA      M   \n",
       "2              DEFERIDO              2013      VENEZUELA      M   \n",
       "3              DEFERIDO              2018      VENEZUELA      M   \n",
       "4              DEFERIDO              2018      VENEZUELA      F   \n",
       "\n",
       "   ANO DE NASCIMENTO CIDADE SOLICITAÇÃO DATA DA  DECISÃO  \n",
       "0               1993     RIO DE JANEIRO       2020-01-31  \n",
       "1               1994          SÃO PAULO       2020-01-31  \n",
       "2               1981             MANAUS       2020-01-31  \n",
       "3               1969          SÃO PAULO       2020-01-31  \n",
       "4               1968          SÃO PAULO       2020-01-31  "
      ]
     },
     "execution_count": 199,
     "metadata": {},
     "output_type": "execute_result"
    }
   ],
   "source": [
    "df_dados.head()"
   ]
  },
  {
   "cell_type": "code",
   "execution_count": 200,
   "id": "d8a541d2",
   "metadata": {},
   "outputs": [
    {
     "data": {
      "text/plain": [
       "Index(['STATUS - Requerimento', 'ANO  SOLICITAÇÃO', 'PAÍS DE ORIGEM', 'GÊNERO',\n",
       "       'ANO DE NASCIMENTO', 'CIDADE SOLICITAÇÃO', 'DATA DA  DECISÃO'],\n",
       "      dtype='object')"
      ]
     },
     "execution_count": 200,
     "metadata": {},
     "output_type": "execute_result"
    }
   ],
   "source": [
    "df_dados.columns"
   ]
  },
  {
   "cell_type": "markdown",
   "id": "4a0a738d",
   "metadata": {},
   "source": [
    "> Dados limpos e organizados"
   ]
  },
  {
   "cell_type": "markdown",
   "id": "37ee74d5",
   "metadata": {},
   "source": [
    "## Análise Exploratória"
   ]
  },
  {
   "cell_type": "code",
   "execution_count": 201,
   "id": "63c44e24",
   "metadata": {},
   "outputs": [],
   "source": [
    "import plotly.express as px\n",
    "import seaborn as sns \n",
    "import matplotlib.pyplot as plt"
   ]
  },
  {
   "cell_type": "code",
   "execution_count": 202,
   "id": "f48cff9b",
   "metadata": {},
   "outputs": [
    {
     "data": {
      "text/html": [
       "<div>\n",
       "<style scoped>\n",
       "    .dataframe tbody tr th:only-of-type {\n",
       "        vertical-align: middle;\n",
       "    }\n",
       "\n",
       "    .dataframe tbody tr th {\n",
       "        vertical-align: top;\n",
       "    }\n",
       "\n",
       "    .dataframe thead th {\n",
       "        text-align: right;\n",
       "    }\n",
       "</style>\n",
       "<table border=\"1\" class=\"dataframe\">\n",
       "  <thead>\n",
       "    <tr style=\"text-align: right;\">\n",
       "      <th></th>\n",
       "      <th>STATUS - Requerimento</th>\n",
       "      <th>PAÍS DE ORIGEM</th>\n",
       "      <th>GÊNERO</th>\n",
       "      <th>CIDADE SOLICITAÇÃO</th>\n",
       "    </tr>\n",
       "  </thead>\n",
       "  <tbody>\n",
       "    <tr>\n",
       "      <th>count</th>\n",
       "      <td>28910</td>\n",
       "      <td>28910</td>\n",
       "      <td>28910</td>\n",
       "      <td>28910</td>\n",
       "    </tr>\n",
       "    <tr>\n",
       "      <th>unique</th>\n",
       "      <td>7</td>\n",
       "      <td>83</td>\n",
       "      <td>3</td>\n",
       "      <td>134</td>\n",
       "    </tr>\n",
       "    <tr>\n",
       "      <th>top</th>\n",
       "      <td>DEFERIDO</td>\n",
       "      <td>VENEZUELA</td>\n",
       "      <td>M</td>\n",
       "      <td>BOA VISTA</td>\n",
       "    </tr>\n",
       "    <tr>\n",
       "      <th>freq</th>\n",
       "      <td>24992</td>\n",
       "      <td>27154</td>\n",
       "      <td>18110</td>\n",
       "      <td>12949</td>\n",
       "    </tr>\n",
       "  </tbody>\n",
       "</table>\n",
       "</div>"
      ],
      "text/plain": [
       "       STATUS - Requerimento PAÍS DE ORIGEM GÊNERO CIDADE SOLICITAÇÃO\n",
       "count                  28910          28910  28910              28910\n",
       "unique                     7             83      3                134\n",
       "top                 DEFERIDO      VENEZUELA      M          BOA VISTA\n",
       "freq                   24992          27154  18110              12949"
      ]
     },
     "execution_count": 202,
     "metadata": {},
     "output_type": "execute_result"
    }
   ],
   "source": [
    "df_dados.describe(include='object')"
   ]
  },
  {
   "cell_type": "code",
   "execution_count": 213,
   "id": "db41456e",
   "metadata": {},
   "outputs": [],
   "source": [
    "df=df_dados"
   ]
  },
  {
   "cell_type": "code",
   "execution_count": 236,
   "id": "b22e7d24",
   "metadata": {},
   "outputs": [],
   "source": [
    "df_pais=df.groupby(['PAÍS DE ORIGEM','CIDADE SOLICITAÇÃO'])['STATUS - Requerimento'].value_counts()\n"
   ]
  },
  {
   "cell_type": "code",
   "execution_count": 237,
   "id": "2b5cd28f",
   "metadata": {},
   "outputs": [],
   "source": [
    "df_pais=pd.DataFrame(df_pais)"
   ]
  },
  {
   "cell_type": "code",
   "execution_count": 240,
   "id": "68308ea1",
   "metadata": {},
   "outputs": [
    {
     "data": {
      "text/html": [
       "<div>\n",
       "<style scoped>\n",
       "    .dataframe tbody tr th:only-of-type {\n",
       "        vertical-align: middle;\n",
       "    }\n",
       "\n",
       "    .dataframe tbody tr th {\n",
       "        vertical-align: top;\n",
       "    }\n",
       "\n",
       "    .dataframe thead th {\n",
       "        text-align: right;\n",
       "    }\n",
       "</style>\n",
       "<table border=\"1\" class=\"dataframe\">\n",
       "  <thead>\n",
       "    <tr style=\"text-align: right;\">\n",
       "      <th></th>\n",
       "      <th></th>\n",
       "      <th></th>\n",
       "      <th>STATUS - Requerimento</th>\n",
       "    </tr>\n",
       "    <tr>\n",
       "      <th>PAÍS DE ORIGEM</th>\n",
       "      <th>CIDADE SOLICITAÇÃO</th>\n",
       "      <th>STATUS - Requerimento</th>\n",
       "      <th></th>\n",
       "    </tr>\n",
       "  </thead>\n",
       "  <tbody>\n",
       "    <tr>\n",
       "      <th rowspan=\"5\" valign=\"top\">AFEGANISTÃO</th>\n",
       "      <th>\"a definir\"</th>\n",
       "      <th>CESSADO</th>\n",
       "      <td>1</td>\n",
       "    </tr>\n",
       "    <tr>\n",
       "      <th>GOIÂNIA</th>\n",
       "      <th>DEFERIDO</th>\n",
       "      <td>1</td>\n",
       "    </tr>\n",
       "    <tr>\n",
       "      <th>GUARULHOS</th>\n",
       "      <th>DEFERIDO</th>\n",
       "      <td>2</td>\n",
       "    </tr>\n",
       "    <tr>\n",
       "      <th rowspan=\"2\" valign=\"top\">SÃO PAULO</th>\n",
       "      <th>DEFERIDO</th>\n",
       "      <td>4</td>\n",
       "    </tr>\n",
       "    <tr>\n",
       "      <th>EXTENÇÃO-DEFERIDO</th>\n",
       "      <td>3</td>\n",
       "    </tr>\n",
       "    <tr>\n",
       "      <th>...</th>\n",
       "      <th>...</th>\n",
       "      <th>...</th>\n",
       "      <td>...</td>\n",
       "    </tr>\n",
       "    <tr>\n",
       "      <th rowspan=\"5\" valign=\"top\">ÍNDIA</th>\n",
       "      <th>FOZ DO IGUAÇU</th>\n",
       "      <th>INDEFERIDO</th>\n",
       "      <td>1</td>\n",
       "    </tr>\n",
       "    <tr>\n",
       "      <th>RIO DE JANEIRO</th>\n",
       "      <th>DEFERIDO</th>\n",
       "      <td>1</td>\n",
       "    </tr>\n",
       "    <tr>\n",
       "      <th rowspan=\"2\" valign=\"top\">SÃO PAULO</th>\n",
       "      <th>INDEFERIDO</th>\n",
       "      <td>2</td>\n",
       "    </tr>\n",
       "    <tr>\n",
       "      <th>DEFERIDO</th>\n",
       "      <td>1</td>\n",
       "    </tr>\n",
       "    <tr>\n",
       "      <th>VITÓRIA</th>\n",
       "      <th>DEFERIDO</th>\n",
       "      <td>1</td>\n",
       "    </tr>\n",
       "  </tbody>\n",
       "</table>\n",
       "<p>637 rows × 1 columns</p>\n",
       "</div>"
      ],
      "text/plain": [
       "                                                         STATUS - Requerimento\n",
       "PAÍS DE ORIGEM CIDADE SOLICITAÇÃO STATUS - Requerimento                       \n",
       "AFEGANISTÃO    \"a definir\"        CESSADO                                    1\n",
       "               GOIÂNIA            DEFERIDO                                   1\n",
       "               GUARULHOS          DEFERIDO                                   2\n",
       "               SÃO PAULO          DEFERIDO                                   4\n",
       "                                  EXTENÇÃO-DEFERIDO                          3\n",
       "...                                                                        ...\n",
       "ÍNDIA          FOZ DO IGUAÇU      INDEFERIDO                                 1\n",
       "               RIO DE JANEIRO     DEFERIDO                                   1\n",
       "               SÃO PAULO          INDEFERIDO                                 2\n",
       "                                  DEFERIDO                                   1\n",
       "               VITÓRIA            DEFERIDO                                   1\n",
       "\n",
       "[637 rows x 1 columns]"
      ]
     },
     "execution_count": 240,
     "metadata": {},
     "output_type": "execute_result"
    }
   ],
   "source": [
    "df_pais"
   ]
  },
  {
   "cell_type": "code",
   "execution_count": 212,
   "id": "bbed611a",
   "metadata": {},
   "outputs": [
    {
     "data": {
      "text/html": [
       "<div>\n",
       "<style scoped>\n",
       "    .dataframe tbody tr th:only-of-type {\n",
       "        vertical-align: middle;\n",
       "    }\n",
       "\n",
       "    .dataframe tbody tr th {\n",
       "        vertical-align: top;\n",
       "    }\n",
       "\n",
       "    .dataframe thead th {\n",
       "        text-align: right;\n",
       "    }\n",
       "</style>\n",
       "<table border=\"1\" class=\"dataframe\">\n",
       "  <thead>\n",
       "    <tr style=\"text-align: right;\">\n",
       "      <th></th>\n",
       "      <th>index</th>\n",
       "      <th>0</th>\n",
       "      <th>1</th>\n",
       "    </tr>\n",
       "  </thead>\n",
       "  <tbody>\n",
       "    <tr>\n",
       "      <th>0</th>\n",
       "      <td>0</td>\n",
       "      <td>AFEGANISTÃO</td>\n",
       "      <td>16527      SÃO PAULO\n",
       "16659    \"a definir\"\n",
       "1786...</td>\n",
       "    </tr>\n",
       "    <tr>\n",
       "      <th>1</th>\n",
       "      <td>1</td>\n",
       "      <td>ALEMANHA</td>\n",
       "      <td>26463       BRASÍLIA\n",
       "26478    \"a definir\"\n",
       "Name...</td>\n",
       "    </tr>\n",
       "    <tr>\n",
       "      <th>2</th>\n",
       "      <td>2</td>\n",
       "      <td>ANGOLA</td>\n",
       "      <td>2101          SÃO PAULO\n",
       "2109          SÃO PAUL...</td>\n",
       "    </tr>\n",
       "    <tr>\n",
       "      <th>3</th>\n",
       "      <td>3</td>\n",
       "      <td>ARGENTINA</td>\n",
       "      <td>26464    \"a definir\"\n",
       "26465    \"a definir\"\n",
       "2646...</td>\n",
       "    </tr>\n",
       "    <tr>\n",
       "      <th>4</th>\n",
       "      <td>4</td>\n",
       "      <td>ARGÉLIA</td>\n",
       "      <td>28300    MANAUS\n",
       "Name: CIDADE SOLICITAÇÃO, dtyp...</td>\n",
       "    </tr>\n",
       "    <tr>\n",
       "      <th>...</th>\n",
       "      <td>...</td>\n",
       "      <td>...</td>\n",
       "      <td>...</td>\n",
       "    </tr>\n",
       "    <tr>\n",
       "      <th>78</th>\n",
       "      <td>78</td>\n",
       "      <td>UGANDA</td>\n",
       "      <td>26600    NITERÓI\n",
       "Name: CIDADE SOLICITAÇÃO, dty...</td>\n",
       "    </tr>\n",
       "    <tr>\n",
       "      <th>79</th>\n",
       "      <td>79</td>\n",
       "      <td>UNIÃO SOVIÉTICA</td>\n",
       "      <td>17935    GUARUJÁ\n",
       "18000    GUARUJÁ\n",
       "Name: CIDADE...</td>\n",
       "    </tr>\n",
       "    <tr>\n",
       "      <th>80</th>\n",
       "      <td>80</td>\n",
       "      <td>VENEZUELA</td>\n",
       "      <td>0        RIO DE JANEIRO\n",
       "1             SÃO PAUL...</td>\n",
       "    </tr>\n",
       "    <tr>\n",
       "      <th>81</th>\n",
       "      <td>81</td>\n",
       "      <td>ÁFRICA DO SUL</td>\n",
       "      <td>18249    SÃO PAULO\n",
       "28413    SÃO PAULO\n",
       "Name: CI...</td>\n",
       "    </tr>\n",
       "    <tr>\n",
       "      <th>82</th>\n",
       "      <td>82</td>\n",
       "      <td>ÍNDIA</td>\n",
       "      <td>16450          BRASÍLIA\n",
       "16617     FOZ DO IGUAÇ...</td>\n",
       "    </tr>\n",
       "  </tbody>\n",
       "</table>\n",
       "<p>83 rows × 3 columns</p>\n",
       "</div>"
      ],
      "text/plain": [
       "    index                0                                                  1\n",
       "0       0      AFEGANISTÃO  16527      SÃO PAULO\n",
       "16659    \"a definir\"\n",
       "1786...\n",
       "1       1         ALEMANHA  26463       BRASÍLIA\n",
       "26478    \"a definir\"\n",
       "Name...\n",
       "2       2           ANGOLA  2101          SÃO PAULO\n",
       "2109          SÃO PAUL...\n",
       "3       3        ARGENTINA  26464    \"a definir\"\n",
       "26465    \"a definir\"\n",
       "2646...\n",
       "4       4          ARGÉLIA  28300    MANAUS\n",
       "Name: CIDADE SOLICITAÇÃO, dtyp...\n",
       "..    ...              ...                                                ...\n",
       "78     78           UGANDA  26600    NITERÓI\n",
       "Name: CIDADE SOLICITAÇÃO, dty...\n",
       "79     79  UNIÃO SOVIÉTICA  17935    GUARUJÁ\n",
       "18000    GUARUJÁ\n",
       "Name: CIDADE...\n",
       "80     80        VENEZUELA  0        RIO DE JANEIRO\n",
       "1             SÃO PAUL...\n",
       "81     81    ÁFRICA DO SUL  18249    SÃO PAULO\n",
       "28413    SÃO PAULO\n",
       "Name: CI...\n",
       "82     82            ÍNDIA  16450          BRASÍLIA\n",
       "16617     FOZ DO IGUAÇ...\n",
       "\n",
       "[83 rows x 3 columns]"
      ]
     },
     "execution_count": 212,
     "metadata": {},
     "output_type": "execute_result"
    }
   ],
   "source": [
    "df_pais"
   ]
  },
  {
   "cell_type": "code",
   "execution_count": 113,
   "id": "510fa291",
   "metadata": {},
   "outputs": [
    {
     "data": {
      "text/plain": [
       "Text(0, 0.5, 'Total')"
      ]
     },
     "execution_count": 113,
     "metadata": {},
     "output_type": "execute_result"
    },
    {
     "data": {
      "image/png": "[encoded data removed]",
      "text/plain": [
       "<Figure size 864x432 with 1 Axes>"
      ]
     },
     "metadata": {},
     "output_type": "display_data"
    }
   ],
   "source": [
    "plt.figure(figsize=(12, 6))\n",
    "status=df_dados['STATUS - Requerimento'].value_counts().sort_values().index\n",
    "#print(df['Sport'].value_counts())\n",
    "sns.countplot(data=df_dados, x='STATUS - Requerimento',palette=\"crest\",order=status)\n",
    "plt.title('Distribuição da Avaliação do Ano Anterior dos Funcionários', fontsize = 15)\n",
    "plt.xlabel('Avaliações', fontsize = 15)\n",
    "plt.ylabel('Total')"
   ]
  },
  {
   "cell_type": "code",
   "execution_count": null,
   "id": "63cf6563",
   "metadata": {},
   "outputs": [],
   "source": []
  },
  {
   "cell_type": "code",
   "execution_count": null,
   "id": "f4debeac",
   "metadata": {},
   "outputs": [],
   "source": []
  },
  {
   "cell_type": "code",
   "execution_count": 116,
   "id": "9e772d99",
   "metadata": {},
   "outputs": [],
   "source": [
    "data = df_dados[['PAÍS DE ORIGEM','GÊNERO','STATUS - Requerimento']]"
   ]
  },
  {
   "cell_type": "code",
   "execution_count": 117,
   "id": "53a965b5",
   "metadata": {},
   "outputs": [
    {
     "data": {
      "text/html": [
       "<div>\n",
       "<style scoped>\n",
       "    .dataframe tbody tr th:only-of-type {\n",
       "        vertical-align: middle;\n",
       "    }\n",
       "\n",
       "    .dataframe tbody tr th {\n",
       "        vertical-align: top;\n",
       "    }\n",
       "\n",
       "    .dataframe thead th {\n",
       "        text-align: right;\n",
       "    }\n",
       "</style>\n",
       "<table border=\"1\" class=\"dataframe\">\n",
       "  <thead>\n",
       "    <tr style=\"text-align: right;\">\n",
       "      <th></th>\n",
       "      <th>PAÍS DE ORIGEM</th>\n",
       "      <th>GÊNERO</th>\n",
       "      <th>STATUS - Requerimento</th>\n",
       "    </tr>\n",
       "  </thead>\n",
       "  <tbody>\n",
       "    <tr>\n",
       "      <th>2027</th>\n",
       "      <td>EL SALVADOR</td>\n",
       "      <td>M</td>\n",
       "      <td>PERDA DA CONDIÇÃO DE REFUGIADO</td>\n",
       "    </tr>\n",
       "    <tr>\n",
       "      <th>2028</th>\n",
       "      <td>EL SALVADOR</td>\n",
       "      <td>F</td>\n",
       "      <td>PERDA DA CONDIÇÃO DE REFUGIADO</td>\n",
       "    </tr>\n",
       "    <tr>\n",
       "      <th>2029</th>\n",
       "      <td>EL SALVADOR</td>\n",
       "      <td>M</td>\n",
       "      <td>PERDA DA CONDIÇÃO DE REFUGIADO</td>\n",
       "    </tr>\n",
       "    <tr>\n",
       "      <th>2030</th>\n",
       "      <td>EL SALVADOR</td>\n",
       "      <td>F</td>\n",
       "      <td>PERDA DA CONDIÇÃO DE REFUGIADO</td>\n",
       "    </tr>\n",
       "    <tr>\n",
       "      <th>2031</th>\n",
       "      <td>IUGOSLÁVIA</td>\n",
       "      <td>F</td>\n",
       "      <td>CESSADO</td>\n",
       "    </tr>\n",
       "    <tr>\n",
       "      <th>...</th>\n",
       "      <td>...</td>\n",
       "      <td>...</td>\n",
       "      <td>...</td>\n",
       "    </tr>\n",
       "    <tr>\n",
       "      <th>28905</th>\n",
       "      <td>SÍRIA</td>\n",
       "      <td>M</td>\n",
       "      <td>CESSADO</td>\n",
       "    </tr>\n",
       "    <tr>\n",
       "      <th>28906</th>\n",
       "      <td>IRAQUE</td>\n",
       "      <td>M</td>\n",
       "      <td>CESSADO</td>\n",
       "    </tr>\n",
       "    <tr>\n",
       "      <th>28907</th>\n",
       "      <td>LÍBANO</td>\n",
       "      <td>M</td>\n",
       "      <td>CESSADO</td>\n",
       "    </tr>\n",
       "    <tr>\n",
       "      <th>28908</th>\n",
       "      <td>SÍRIA</td>\n",
       "      <td>M</td>\n",
       "      <td>CESSADO</td>\n",
       "    </tr>\n",
       "    <tr>\n",
       "      <th>28909</th>\n",
       "      <td>SUDÃO</td>\n",
       "      <td>M</td>\n",
       "      <td>CESSADO</td>\n",
       "    </tr>\n",
       "  </tbody>\n",
       "</table>\n",
       "<p>3918 rows × 3 columns</p>\n",
       "</div>"
      ],
      "text/plain": [
       "      PAÍS DE ORIGEM GÊNERO           STATUS - Requerimento\n",
       "2027     EL SALVADOR      M  PERDA DA CONDIÇÃO DE REFUGIADO\n",
       "2028     EL SALVADOR      F  PERDA DA CONDIÇÃO DE REFUGIADO\n",
       "2029     EL SALVADOR      M  PERDA DA CONDIÇÃO DE REFUGIADO\n",
       "2030     EL SALVADOR      F  PERDA DA CONDIÇÃO DE REFUGIADO\n",
       "2031      IUGOSLÁVIA      F                         CESSADO\n",
       "...              ...    ...                             ...\n",
       "28905          SÍRIA      M                         CESSADO\n",
       "28906         IRAQUE      M                         CESSADO\n",
       "28907         LÍBANO      M                         CESSADO\n",
       "28908          SÍRIA      M                         CESSADO\n",
       "28909          SUDÃO      M                         CESSADO\n",
       "\n",
       "[3918 rows x 3 columns]"
      ]
     },
     "execution_count": 117,
     "metadata": {},
     "output_type": "execute_result"
    }
   ],
   "source": [
    "data[data['STATUS - Requerimento']!='DEFERIDO']"
   ]
  },
  {
   "cell_type": "code",
   "execution_count": null,
   "id": "3442851e",
   "metadata": {},
   "outputs": [],
   "source": []
  },
  {
   "cell_type": "markdown",
   "id": "b0445824",
   "metadata": {},
   "source": [
    "### Salvando em CSV"
   ]
  },
  {
   "cell_type": "code",
   "execution_count": 82,
   "id": "b12849e3",
   "metadata": {},
   "outputs": [],
   "source": [
    "df_dados.to_csv('dados/dado_gov.csv',index=False)"
   ]
  },
  {
   "cell_type": "code",
   "execution_count": 57,
   "id": "06f8fcc6",
   "metadata": {},
   "outputs": [],
   "source": []
  }
 ],
 "metadata": {
  "kernelspec": {
   "display_name": "Python 3 (ipykernel)",
   "language": "python",
   "name": "python3"
  },
  "language_info": {
   "codemirror_mode": {
    "name": "ipython",
    "version": 3
   },
   "file_extension": ".py",
   "mimetype": "text/x-python",
   "name": "python",
   "nbconvert_exporter": "python",
   "pygments_lexer": "ipython3",
   "version": "3.9.12"
  }
 },
 "nbformat": 4,
 "nbformat_minor": 5
}
